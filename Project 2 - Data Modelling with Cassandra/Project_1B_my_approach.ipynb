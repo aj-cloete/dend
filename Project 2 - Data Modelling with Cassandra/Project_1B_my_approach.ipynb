{
 "cells": [
  {
   "cell_type": "markdown",
   "metadata": {},
   "source": [
    "# Sparkify Casandra database"
   ]
  },
  {
   "cell_type": "markdown",
   "metadata": {},
   "source": [
    "### Import the required modules"
   ]
  },
  {
   "cell_type": "code",
   "execution_count": 1,
   "metadata": {},
   "outputs": [],
   "source": [
    "import os\n",
    "import glob\n",
    "import pandas as pd\n",
    "from cassandra.cluster import Cluster"
   ]
  },
  {
   "cell_type": "markdown",
   "metadata": {},
   "source": [
    "### Define all functions"
   ]
  },
  {
   "cell_type": "code",
   "execution_count": 2,
   "metadata": {},
   "outputs": [],
   "source": [
    "def get_all_data(filenames):\n",
    "    \"\"\"\n",
    "    Read all the data from all the files\n",
    "    filenames = list of filenames from which to read the data\n",
    "    Returns: pandas df containing all the unfiltered data including the source column\n",
    "    \"\"\"\n",
    "    dfs = []\n",
    "    for fn in filenames:\n",
    "        df = pd.read_csv(fn)\n",
    "        df['source'] = fn\n",
    "        dfs.append(df)\n",
    "    data = pd.concat(dfs)\n",
    "    return data\n",
    "\n",
    "def insert_data(df, target_table, cols, session):\n",
    "    \"\"\"\n",
    "    Use the df to insert data into the target table using the provided session\n",
    "    df (pandas DataFrame): rows must be filtered (where applicable)\n",
    "    target_table (string): name of table into which data must be inserted\n",
    "    cols (list): a list of the columns (in order) matching the target_table\n",
    "    session (cassandra.cluster.Session): Cassandra session to be used - keyspace must be set\n",
    "    \"\"\"\n",
    "    d = df[cols].copy()\n",
    "    query = f\"INSERT INTO {target_table} ({', '.join(cols)})\"\n",
    "    query = query + f\" VALUES ({', '.join(['%s']*len(cols))})\"\n",
    "    try:\n",
    "        for row in d.values:\n",
    "            session.execute(query,row.tolist())\n",
    "    except Exception as e:\n",
    "        print(e)\n",
    "\n",
    "def drop_table(table_name, session):\n",
    "    \"\"\"\n",
    "    Drop the table from the database if it exists\n",
    "    table_name (string): name of the table to be dropped\n",
    "    session (cassandra.cluster.Session): Cassandra session to be used - keyspace must be set\n",
    "    \"\"\"\n",
    "    try:\n",
    "        session.execute(f'DROP TABLE IF EXISTS {table_name}')\n",
    "        return f'{table_name} dropped!'\n",
    "    except Exception as e:\n",
    "        print(e)\n",
    "        return f'{table_name} not dropped!'\n",
    "        \n",
    "\n",
    "def drop_tables(table_list, session):\n",
    "    \"\"\"\n",
    "    Drop multiple tables from the keyspace\n",
    "    table_list (list): A list of table names (string) to drop.\n",
    "    session (cassandra.cluster.Session): Cassandra session to be used - keyspace must be set\n",
    "    \"\"\"\n",
    "    ret = []\n",
    "    if isinstance(table_list, str):\n",
    "        ret.append(drop_table(table_list, session))\n",
    "        \n",
    "    else:\n",
    "        for table in table_list:\n",
    "            ret.append(drop_table(table, session))\n",
    "    return ret"
   ]
  },
  {
   "cell_type": "markdown",
   "metadata": {},
   "source": [
    "### Working directories"
   ]
  },
  {
   "cell_type": "code",
   "execution_count": 3,
   "metadata": {},
   "outputs": [],
   "source": [
    "# Get the data directory\n",
    "data_dir = os.path.join(os.getcwd(),'event_data')\n",
    "\n",
    "# Get all the filenames to be processed\n",
    "filenames = glob.glob(os.path.join(data_dir,'*'), recursive=True)"
   ]
  },
  {
   "cell_type": "markdown",
   "metadata": {},
   "source": [
    "### Get all the data from the raw files"
   ]
  },
  {
   "cell_type": "code",
   "execution_count": 4,
   "metadata": {},
   "outputs": [],
   "source": [
    "all_data = get_all_data(filenames)"
   ]
  },
  {
   "cell_type": "markdown",
   "metadata": {},
   "source": [
    "### Create the filtered dataset"
   ]
  },
  {
   "cell_type": "code",
   "execution_count": 5,
   "metadata": {},
   "outputs": [],
   "source": [
    "# filter all the data to generate the events dataset where the artist is not null\n",
    "cols = ['artist','firstName','gender','itemInSession','lastName',\n",
    "        'length','level','location','sessionId','song','userId']\n",
    "data = all_data[all_data.artist.notna()][cols].copy()\n",
    "data['userId'] = data['userId'].astype(int)\n",
    "\n",
    "# Write the filtered data to a file in the current working directory\n",
    "data.to_csv('event_datafile_new.csv', index=False)"
   ]
  },
  {
   "cell_type": "markdown",
   "metadata": {},
   "source": [
    "### Create connection to cluster"
   ]
  },
  {
   "cell_type": "code",
   "execution_count": 6,
   "metadata": {},
   "outputs": [],
   "source": [
    "cluster = Cluster()\n",
    "session = cluster.connect()"
   ]
  },
  {
   "cell_type": "markdown",
   "metadata": {},
   "source": [
    "### Create Keyspace"
   ]
  },
  {
   "cell_type": "code",
   "execution_count": 7,
   "metadata": {},
   "outputs": [],
   "source": [
    "try:\n",
    "    session.execute(\"\"\"\n",
    "    CREATE KEYSPACE IF NOT EXISTS sparkifydb \n",
    "    WITH REPLICATION = \n",
    "    { 'class' : 'SimpleStrategy', 'replication_factor' : 1 }\n",
    "    \"\"\")\n",
    "except Exception as e:\n",
    "    print(e)"
   ]
  },
  {
   "cell_type": "markdown",
   "metadata": {},
   "source": [
    "### Set Keyspace"
   ]
  },
  {
   "cell_type": "code",
   "execution_count": 8,
   "metadata": {},
   "outputs": [],
   "source": [
    "try:\n",
    "    session.set_keyspace('sparkifydb')\n",
    "except Exception as e:\n",
    "    print(e)"
   ]
  },
  {
   "cell_type": "markdown",
   "metadata": {},
   "source": [
    "## Create queries to ask the following three questions of the data"
   ]
  },
  {
   "cell_type": "markdown",
   "metadata": {},
   "source": [
    "### Query 1:\n",
    "#### Give me the artist, song title and song's length in the music app history that was heard during  sessionId = 338, and itemInSession  = 4\n",
    "```\n",
    "SELECT artist, song as songTitle, length as songLength\n",
    "FROM song_play_session_items\n",
    "WHERE sessionId=338 AND itemInSession=4\n",
    "```"
   ]
  },
  {
   "cell_type": "markdown",
   "metadata": {},
   "source": [
    "### Query 2:\n",
    "#### Give me only the following: name of artist, song (sorted by itemInSession) and user (first and last name) for userid = 10, sessionid = 182\n",
    "```\n",
    "SELECT artist, song as songTitle, firstName, lastName\n",
    "FROM artist_song_session_plays\n",
    "WHERE userId=10 AND sessionId=182\n",
    "ORDER BY sessionId, itemInSession\n",
    "```"
   ]
  },
  {
   "cell_type": "markdown",
   "metadata": {},
   "source": [
    "### Query 3:\n",
    "#### Give me every user name (first and last) in my music app history who listened to the song 'All Hands Against His Own'\n",
    "```\n",
    "SELECT firstName, lastName\n",
    "FROM user_song_plays\n",
    "WHERE song='All Hands Against His Own'\n",
    "```"
   ]
  },
  {
   "cell_type": "markdown",
   "metadata": {},
   "source": [
    "### Store the queries in variables and identify relevant columns for table"
   ]
  },
  {
   "cell_type": "code",
   "execution_count": 9,
   "metadata": {},
   "outputs": [],
   "source": [
    "# Any columns used in an order by or where clause should form part of the Primary Composite Key\n",
    "\n",
    "# Query 1\n",
    "# Since the data is uniquely identified by the combination of sessionId and itemInSession, these two columns form the Composite Primary Key of the table.  \n",
    "# We want the data distributed as evenly as possible, the better choice for the Primary Key is sessionId since itemInSession is expected to be skewed towards 0\n",
    "query1 = \"\"\" \n",
    "SELECT artist, song as songTitle, length as songLength\n",
    "FROM song_play_session_items\n",
    "WHERE sessionId=338 AND itemInSession=4\n",
    "\"\"\"\n",
    "spsi_cols = ['sessionId','itemInSession','artist','song','length']\n",
    "\n",
    "\n",
    "# Query 2\n",
    "# The same logic applies to this query as in Query 1.  \n",
    "# We use the sessionId as the Primary Key and userId and itemInSession as the clustering columns\n",
    "# The query will first use userId and then sessionId in its where clause.  \n",
    "# Finally, it will be ordered by itemInSession which means ordering by the other two columns too\n",
    "query2 = \"\"\" \n",
    "SELECT artist, song as songTitle, firstName, lastName\n",
    "FROM artist_song_session_plays\n",
    "WHERE userId=10 AND sessionId=182\n",
    "ORDER BY userId, itemInSession \n",
    "\"\"\"\n",
    "assp_cols = ['sessionId','userId','itemInSession','artist','song','firstName','lastName']\n",
    "\n",
    "# Query 3\n",
    "# This query concerns which users listen to an artist\n",
    "# Since a two users can share the same name, we need to use their userId as the unique identifier along with song.  Even though the userId is not required in the actual query.\n",
    "# We therefore have song as the primary key and userId as the clustering column\n",
    "query3 = \"\"\" \n",
    "SELECT firstName, lastName\n",
    "FROM user_song_plays\n",
    "WHERE song='All Hands Against His Own'\n",
    "\"\"\"\n",
    "usp_cols = ['song', 'userId', 'firstName', 'lastName']"
   ]
  },
  {
   "cell_type": "markdown",
   "metadata": {},
   "source": [
    "### Create the song_play_session_items table and insert the data"
   ]
  },
  {
   "cell_type": "code",
   "execution_count": 10,
   "metadata": {},
   "outputs": [],
   "source": [
    "# Drop the table if it already exists\n",
    "drop_table('song_play_session_items', session)\n",
    "\n",
    "# Create new table\n",
    "create_song_play_session_items = \"\"\"\n",
    "CREATE TABLE IF NOT EXISTS song_play_session_items (\n",
    "sessionId int, itemInSession int, artist text, song text, length decimal,\n",
    "PRIMARY KEY (sessionId, itemInSession)\n",
    ")\n",
    "\"\"\"\n",
    "try:\n",
    "    session.execute(create_song_play_session_items)\n",
    "except Exception as e:\n",
    "    print(e)\n",
    "\n",
    "# Insert the data\n",
    "insert_data(data, 'song_play_session_items',spsi_cols,session)"
   ]
  },
  {
   "cell_type": "markdown",
   "metadata": {},
   "source": [
    "### Run test query to see if it worked"
   ]
  },
  {
   "cell_type": "code",
   "execution_count": 11,
   "metadata": {},
   "outputs": [
    {
     "name": "stdout",
     "output_type": "stream",
     "text": [
      "Row(artist='Faithless', songtitle='Music Matters (Mark Knight Dub)', songlength=Decimal('495.3073'))\n"
     ]
    }
   ],
   "source": [
    "try:\n",
    "    rows = session.execute(query1)\n",
    "except Exception as e:\n",
    "    print(e)\n",
    "    \n",
    "for row in rows:\n",
    "    print (row)"
   ]
  },
  {
   "cell_type": "code",
   "execution_count": 12,
   "metadata": {},
   "outputs": [
    {
     "data": {
      "text/html": [
       "<div>\n",
       "<style scoped>\n",
       "    .dataframe tbody tr th:only-of-type {\n",
       "        vertical-align: middle;\n",
       "    }\n",
       "\n",
       "    .dataframe tbody tr th {\n",
       "        vertical-align: top;\n",
       "    }\n",
       "\n",
       "    .dataframe thead th {\n",
       "        text-align: right;\n",
       "    }\n",
       "</style>\n",
       "<table border=\"1\" class=\"dataframe\">\n",
       "  <thead>\n",
       "    <tr style=\"text-align: right;\">\n",
       "      <th></th>\n",
       "      <th>artist</th>\n",
       "      <th>song</th>\n",
       "      <th>length</th>\n",
       "    </tr>\n",
       "  </thead>\n",
       "  <tbody>\n",
       "    <tr>\n",
       "      <th>54</th>\n",
       "      <td>Faithless</td>\n",
       "      <td>Music Matters (Mark Knight Dub)</td>\n",
       "      <td>495.3073</td>\n",
       "    </tr>\n",
       "  </tbody>\n",
       "</table>\n",
       "</div>"
      ],
      "text/plain": [
       "       artist                             song    length\n",
       "54  Faithless  Music Matters (Mark Knight Dub)  495.3073"
      ]
     },
     "execution_count": 12,
     "metadata": {},
     "output_type": "execute_result"
    }
   ],
   "source": [
    "# double check that it's correct from the pandas df:\n",
    "data.query('sessionId==338').query('itemInSession==4')[spsi_cols[2:]]"
   ]
  },
  {
   "cell_type": "markdown",
   "metadata": {},
   "source": [
    "### create the artist_song_session_plays table and insert the data"
   ]
  },
  {
   "cell_type": "code",
   "execution_count": 13,
   "metadata": {},
   "outputs": [],
   "source": [
    "# Drop the table if it already exists\n",
    "drop_table('artist_song_session_plays', session)\n",
    "\n",
    "# Create new table\n",
    "create_artist_song_session_plays = \"\"\"\n",
    "CREATE TABLE IF NOT EXISTS artist_song_session_plays (\n",
    "sessionId int, userId int, itemInSession int, artist text, song text, firstName text, lastName text,\n",
    "PRIMARY KEY (sessionId, userId, itemInSession)\n",
    ")\n",
    "\"\"\"\n",
    "try:\n",
    "    session.execute(create_artist_song_session_plays)\n",
    "except Exception as e:\n",
    "    print(e)\n",
    "insert_data(data, 'artist_song_session_plays', assp_cols, session)"
   ]
  },
  {
   "cell_type": "markdown",
   "metadata": {},
   "source": [
    "### Run test query to see if it worked"
   ]
  },
  {
   "cell_type": "code",
   "execution_count": 14,
   "metadata": {},
   "outputs": [
    {
     "name": "stdout",
     "output_type": "stream",
     "text": [
      "Row(artist='Down To The Bone', songtitle=\"Keep On Keepin' On\", firstname='Sylvie', lastname='Cruz')\n",
      "Row(artist='Three Drives', songtitle='Greece 2000', firstname='Sylvie', lastname='Cruz')\n",
      "Row(artist='Sebastien Tellier', songtitle='Kilometer', firstname='Sylvie', lastname='Cruz')\n",
      "Row(artist='Lonnie Gordon', songtitle='Catch You Baby (Steve Pitron & Max Sanna Radio Edit)', firstname='Sylvie', lastname='Cruz')\n"
     ]
    }
   ],
   "source": [
    "try:\n",
    "    rows = session.execute(query2)\n",
    "except Exception as e:\n",
    "    print(e)\n",
    "    \n",
    "for row in rows:\n",
    "    print (row)"
   ]
  },
  {
   "cell_type": "code",
   "execution_count": 15,
   "metadata": {},
   "outputs": [
    {
     "data": {
      "text/html": [
       "<div>\n",
       "<style scoped>\n",
       "    .dataframe tbody tr th:only-of-type {\n",
       "        vertical-align: middle;\n",
       "    }\n",
       "\n",
       "    .dataframe tbody tr th {\n",
       "        vertical-align: top;\n",
       "    }\n",
       "\n",
       "    .dataframe thead th {\n",
       "        text-align: right;\n",
       "    }\n",
       "</style>\n",
       "<table border=\"1\" class=\"dataframe\">\n",
       "  <thead>\n",
       "    <tr style=\"text-align: right;\">\n",
       "      <th></th>\n",
       "      <th>artist</th>\n",
       "      <th>song</th>\n",
       "      <th>firstName</th>\n",
       "      <th>lastName</th>\n",
       "    </tr>\n",
       "  </thead>\n",
       "  <tbody>\n",
       "    <tr>\n",
       "      <th>155</th>\n",
       "      <td>Down To The Bone</td>\n",
       "      <td>Keep On Keepin' On</td>\n",
       "      <td>Sylvie</td>\n",
       "      <td>Cruz</td>\n",
       "    </tr>\n",
       "    <tr>\n",
       "      <th>156</th>\n",
       "      <td>Three Drives</td>\n",
       "      <td>Greece 2000</td>\n",
       "      <td>Sylvie</td>\n",
       "      <td>Cruz</td>\n",
       "    </tr>\n",
       "    <tr>\n",
       "      <th>158</th>\n",
       "      <td>Sebastien Tellier</td>\n",
       "      <td>Kilometer</td>\n",
       "      <td>Sylvie</td>\n",
       "      <td>Cruz</td>\n",
       "    </tr>\n",
       "    <tr>\n",
       "      <th>159</th>\n",
       "      <td>Lonnie Gordon</td>\n",
       "      <td>Catch You Baby (Steve Pitron &amp; Max Sanna Radio...</td>\n",
       "      <td>Sylvie</td>\n",
       "      <td>Cruz</td>\n",
       "    </tr>\n",
       "  </tbody>\n",
       "</table>\n",
       "</div>"
      ],
      "text/plain": [
       "                artist                                               song  \\\n",
       "155   Down To The Bone                                 Keep On Keepin' On   \n",
       "156       Three Drives                                        Greece 2000   \n",
       "158  Sebastien Tellier                                          Kilometer   \n",
       "159      Lonnie Gordon  Catch You Baby (Steve Pitron & Max Sanna Radio...   \n",
       "\n",
       "    firstName lastName  \n",
       "155    Sylvie     Cruz  \n",
       "156    Sylvie     Cruz  \n",
       "158    Sylvie     Cruz  \n",
       "159    Sylvie     Cruz  "
      ]
     },
     "execution_count": 15,
     "metadata": {},
     "output_type": "execute_result"
    }
   ],
   "source": [
    "# double check that it's correct from the pandas df:\n",
    "data.sort_values('itemInSession').query('sessionId==182').query('userId==10')[assp_cols[3:]]"
   ]
  },
  {
   "cell_type": "markdown",
   "metadata": {},
   "source": [
    "### Query 3:\n",
    "#### Give me every user name (first and last) in my music app history who listened to the song 'All Hands Against His Own'"
   ]
  },
  {
   "cell_type": "markdown",
   "metadata": {},
   "source": [
    "### create the user_song_plays table and insert the data"
   ]
  },
  {
   "cell_type": "code",
   "execution_count": 16,
   "metadata": {},
   "outputs": [],
   "source": [
    "# Drop the table if it already exists\n",
    "drop_table('user_song_plays', session)\n",
    "\n",
    "# Create new table\n",
    "create_user_song_plays = \"\"\"\n",
    "CREATE TABLE IF NOT EXISTS user_song_plays (\n",
    "song text, userId int, firstName text, lastName text, \n",
    "PRIMARY KEY (song, userId)\n",
    ")\n",
    "\"\"\"\n",
    "try:\n",
    "    session.execute(create_user_song_plays)\n",
    "except Exception as e:\n",
    "    print(e)\n",
    "insert_data(data, 'user_song_plays', usp_cols, session)"
   ]
  },
  {
   "cell_type": "markdown",
   "metadata": {},
   "source": [
    "### Run test query to see if it worked"
   ]
  },
  {
   "cell_type": "code",
   "execution_count": 17,
   "metadata": {},
   "outputs": [
    {
     "name": "stdout",
     "output_type": "stream",
     "text": [
      "Row(firstname='Jacqueline', lastname='Lynch')\n",
      "Row(firstname='Tegan', lastname='Levine')\n",
      "Row(firstname='Sara', lastname='Johnson')\n"
     ]
    }
   ],
   "source": [
    "try:\n",
    "    rows = session.execute(query3)\n",
    "except Exception as e:\n",
    "    print(e)\n",
    "    \n",
    "for row in rows:\n",
    "    print (row)"
   ]
  },
  {
   "cell_type": "code",
   "execution_count": 18,
   "metadata": {},
   "outputs": [
    {
     "data": {
      "text/html": [
       "<div>\n",
       "<style scoped>\n",
       "    .dataframe tbody tr th:only-of-type {\n",
       "        vertical-align: middle;\n",
       "    }\n",
       "\n",
       "    .dataframe tbody tr th {\n",
       "        vertical-align: top;\n",
       "    }\n",
       "\n",
       "    .dataframe thead th {\n",
       "        text-align: right;\n",
       "    }\n",
       "</style>\n",
       "<table border=\"1\" class=\"dataframe\">\n",
       "  <thead>\n",
       "    <tr style=\"text-align: right;\">\n",
       "      <th></th>\n",
       "      <th>firstName</th>\n",
       "      <th>lastName</th>\n",
       "    </tr>\n",
       "  </thead>\n",
       "  <tbody>\n",
       "    <tr>\n",
       "      <th>57</th>\n",
       "      <td>Sara</td>\n",
       "      <td>Johnson</td>\n",
       "    </tr>\n",
       "    <tr>\n",
       "      <th>100</th>\n",
       "      <td>Tegan</td>\n",
       "      <td>Levine</td>\n",
       "    </tr>\n",
       "    <tr>\n",
       "      <th>315</th>\n",
       "      <td>Jacqueline</td>\n",
       "      <td>Lynch</td>\n",
       "    </tr>\n",
       "  </tbody>\n",
       "</table>\n",
       "</div>"
      ],
      "text/plain": [
       "      firstName lastName\n",
       "57         Sara  Johnson\n",
       "100       Tegan   Levine\n",
       "315  Jacqueline    Lynch"
      ]
     },
     "execution_count": 18,
     "metadata": {},
     "output_type": "execute_result"
    }
   ],
   "source": [
    "# double check that it's correct from the pandas df:\n",
    "data.query(\"song=='All Hands Against His Own'\")[usp_cols[2:]]"
   ]
  },
  {
   "cell_type": "markdown",
   "metadata": {},
   "source": [
    "We see that our tables were created and yields the correct result for the given queries!"
   ]
  },
  {
   "cell_type": "markdown",
   "metadata": {},
   "source": [
    "## Drop the tables before closing out the sessions"
   ]
  },
  {
   "cell_type": "code",
   "execution_count": 19,
   "metadata": {},
   "outputs": [
    {
     "data": {
      "text/plain": [
       "['user_song_plays dropped!',\n",
       " 'artist_song_session_plays dropped!',\n",
       " 'song_play_session_items dropped!']"
      ]
     },
     "execution_count": 19,
     "metadata": {},
     "output_type": "execute_result"
    }
   ],
   "source": [
    "drop_tables(['user_song_plays',\n",
    "             'artist_song_session_plays',\n",
    "             'song_play_session_items'], session)"
   ]
  },
  {
   "cell_type": "markdown",
   "metadata": {},
   "source": [
    "### Close the session and cluster connection"
   ]
  },
  {
   "cell_type": "code",
   "execution_count": 20,
   "metadata": {},
   "outputs": [],
   "source": [
    "session.shutdown()\n",
    "cluster.shutdown()"
   ]
  },
  {
   "cell_type": "code",
   "execution_count": null,
   "metadata": {},
   "outputs": [],
   "source": []
  }
 ],
 "metadata": {
  "kernelspec": {
   "display_name": "Python 3",
   "language": "python",
   "name": "python3"
  },
  "language_info": {
   "codemirror_mode": {
    "name": "ipython",
    "version": 3
   },
   "file_extension": ".py",
   "mimetype": "text/x-python",
   "name": "python",
   "nbconvert_exporter": "python",
   "pygments_lexer": "ipython3",
   "version": "3.6.3"
  }
 },
 "nbformat": 4,
 "nbformat_minor": 2
}
